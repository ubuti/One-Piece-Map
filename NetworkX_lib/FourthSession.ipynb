{
 "cells": [
  {
   "cell_type": "markdown",
   "metadata": {},
   "source": [
    "### Fourth Session\n",
    "\n",
    "#### Lets implement the Texas roadmap\n",
    "\n",
    "It represents an undirected graph of ~ 4 million edges. We use it to demonstrate applicabiloty of graph theoretic ideas on a high level view.\n",
    "\n",
    "- **Visualizations**\n",
    "- Apply djikstra \n",
    "- Which edge(s) is can not be blocked\n",
    "- No. of paths between 2 nodes"
   ]
  },
  {
   "cell_type": "code",
   "execution_count": null,
   "metadata": {},
   "outputs": [],
   "source": []
  }
 ],
 "metadata": {
  "language_info": {
   "name": "python"
  }
 },
 "nbformat": 4,
 "nbformat_minor": 2
}
